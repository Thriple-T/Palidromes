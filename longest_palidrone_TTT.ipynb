{
 "cells": [
  {
   "cell_type": "code",
   "execution_count": 25,
   "metadata": {},
   "outputs": [],
   "source": [
    "def longest_palindrome(s: str) -> str:\n",
    "    def center(left: int, right: int) -> str:\n",
    "        while left >= 0 and right < len(s) and s[left] == s[right]:\n",
    "            left -= 1\n",
    "            right += 1\n",
    "        return s[left + 1:right] \n",
    "    \n",
    "    longest = \" \"\n",
    "    for i in range(len(s)):\n",
    "        odd_palindrome = center(i, i)\n",
    "        even_palindrome = center(i, i + 1)\n",
    "        \n",
    "        if len(odd_palindrome) > len(longest):\n",
    "            longest = odd_palindrome\n",
    "        if len(even_palindrome) > len(longest):\n",
    "            longest = even_palindrome\n",
    "\n",
    "    return longest\n"
   ]
  },
  {
   "cell_type": "code",
   "execution_count": 26,
   "metadata": {},
   "outputs": [
    {
     "name": "stdout",
     "output_type": "stream",
     "text": [
      "bab\n",
      "bb\n",
      "anana\n",
      "SSS\n",
      " \n"
     ]
    }
   ],
   "source": [
    "#Example Usage\n",
    "print(longest_palindrome(\"babad\"))  \n",
    "print(longest_palindrome(\"cbbd\"))  \n",
    "print(longest_palindrome(\"Banana\"))    \n",
    "print(longest_palindrome(\"SSSniperWolf\"))\n",
    "print(longest_palindrome(\" \"))\n"
   ]
  }
 ],
 "metadata": {
  "kernelspec": {
   "display_name": "base",
   "language": "python",
   "name": "python3"
  },
  "language_info": {
   "codemirror_mode": {
    "name": "ipython",
    "version": 3
   },
   "file_extension": ".py",
   "mimetype": "text/x-python",
   "name": "python",
   "nbconvert_exporter": "python",
   "pygments_lexer": "ipython3",
   "version": "3.12.4"
  }
 },
 "nbformat": 4,
 "nbformat_minor": 2
}
