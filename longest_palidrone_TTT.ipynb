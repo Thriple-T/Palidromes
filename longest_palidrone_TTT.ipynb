{
 "cells": [
  {
   "cell_type": "markdown",
   "metadata": {},
   "source": [
    "### Longest Palidrone Logic\n",
    "\n",
    "I started to build this with the logic from previous assignment `(palidrone assignment)`. However, based on the assignment requirement, I have to take a different approach towards this problem.\n",
    "\n",
    "This is my thought process on this problem.\n",
    "\n",
    "- The output should be a string which shows words that are palidrone. \n",
    "- Even the word itself not a palidrone, finds words that are palidrone within it.\n",
    "\n",
    "With these, I wanted a function that checks the left and right of each word checking if it matchs. Once they stop matching, it return the substring that was a palindrome. \n",
    "\n",
    "Then I need it to loop it through each words with the function I called `center` and put the palidrone in the empty string which I have called `longest` to update the palidrone with each iteration. \n",
    "\n",
    "I noticed weird in the output when looping through words that are even and odd, so I establish an `if-else` in the `for` loop. If the length of the string is odd, it works the usual however, if it is even, the second argument has to be `i + 1` (the index is increased by 1). I have looped it through and the code works perfectly.   \n"
   ]
  },
  {
   "cell_type": "code",
   "execution_count": 2,
   "metadata": {},
   "outputs": [],
   "source": [
    "def longest_palindrome(s: str) -> str:\n",
    "    def center(left: int, right: int) -> str:\n",
    "        while left >= 0 and right < len(s) and s[left] == s[right]:\n",
    "            left -= 1\n",
    "            right += 1\n",
    "        return s[left + 1:right] \n",
    "    \n",
    "    longest = \" \"\n",
    "    for i in range(len(s)):\n",
    "        odd_palindrome = center(i, i)\n",
    "        even_palindrome = center(i, i + 1)\n",
    "        \n",
    "        if len(odd_palindrome) > len(longest):\n",
    "            longest = odd_palindrome\n",
    "        if len(even_palindrome) > len(longest):\n",
    "            longest = even_palindrome\n",
    "\n",
    "    return longest\n"
   ]
  },
  {
   "cell_type": "code",
   "execution_count": 4,
   "metadata": {},
   "outputs": [
    {
     "name": "stdout",
     "output_type": "stream",
     "text": [
      "bab\n",
      "bb\n",
      "anana\n",
      "SSS\n",
      " \n"
     ]
    }
   ],
   "source": [
    "#Example Usage\n",
    "print(longest_palindrome(\"babad\"))  \n",
    "print(longest_palindrome(\"cbbd\"))  \n",
    "print(longest_palindrome(\"Banana\"))    \n",
    "print(longest_palindrome(\"SSSniperWolf\"))\n",
    "print(longest_palindrome(\" \"))\n"
   ]
  }
 ],
 "metadata": {
  "kernelspec": {
   "display_name": "base",
   "language": "python",
   "name": "python3"
  },
  "language_info": {
   "codemirror_mode": {
    "name": "ipython",
    "version": 3
   },
   "file_extension": ".py",
   "mimetype": "text/x-python",
   "name": "python",
   "nbconvert_exporter": "python",
   "pygments_lexer": "ipython3",
   "version": "3.12.4"
  }
 },
 "nbformat": 4,
 "nbformat_minor": 2
}
